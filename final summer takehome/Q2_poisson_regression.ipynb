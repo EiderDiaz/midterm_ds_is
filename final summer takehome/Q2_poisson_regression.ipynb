{
 "metadata": {
  "language_info": {
   "codemirror_mode": {
    "name": "ipython",
    "version": 3
   },
   "file_extension": ".py",
   "mimetype": "text/x-python",
   "name": "python",
   "nbconvert_exporter": "python",
   "pygments_lexer": "ipython3",
   "version": "3.7.4-final"
  },
  "orig_nbformat": 2,
  "kernelspec": {
   "name": "python37464bit333d08579113408b939a763c9b225028",
   "display_name": "Python 3.7.4 64-bit"
  }
 },
 "nbformat": 4,
 "nbformat_minor": 2,
 "cells": [
  {
   "cell_type": "code",
   "execution_count": 22,
   "metadata": {},
   "outputs": [],
   "source": [
    "import numpy as np\n",
    "import pandas as pd\n",
    "import math"
   ]
  },
  {
   "cell_type": "code",
   "execution_count": 23,
   "metadata": {},
   "outputs": [
    {
     "output_type": "execute_result",
     "data": {
      "text/plain": "   Gender  Height  Weight        BMI  Number\n0    Male     198      50  12.753801       1\n1  Female     198      50  12.753801       2\n2  Female     196      50  13.015410       3\n3  Female     190      50  13.850416       4\n4    Male     190      50  13.850416       5",
      "text/html": "<div>\n<style scoped>\n    .dataframe tbody tr th:only-of-type {\n        vertical-align: middle;\n    }\n\n    .dataframe tbody tr th {\n        vertical-align: top;\n    }\n\n    .dataframe thead th {\n        text-align: right;\n    }\n</style>\n<table border=\"1\" class=\"dataframe\">\n  <thead>\n    <tr style=\"text-align: right;\">\n      <th></th>\n      <th>Gender</th>\n      <th>Height</th>\n      <th>Weight</th>\n      <th>BMI</th>\n      <th>Number</th>\n    </tr>\n  </thead>\n  <tbody>\n    <tr>\n      <th>0</th>\n      <td>Male</td>\n      <td>198</td>\n      <td>50</td>\n      <td>12.753801</td>\n      <td>1</td>\n    </tr>\n    <tr>\n      <th>1</th>\n      <td>Female</td>\n      <td>198</td>\n      <td>50</td>\n      <td>12.753801</td>\n      <td>2</td>\n    </tr>\n    <tr>\n      <th>2</th>\n      <td>Female</td>\n      <td>196</td>\n      <td>50</td>\n      <td>13.015410</td>\n      <td>3</td>\n    </tr>\n    <tr>\n      <th>3</th>\n      <td>Female</td>\n      <td>190</td>\n      <td>50</td>\n      <td>13.850416</td>\n      <td>4</td>\n    </tr>\n    <tr>\n      <th>4</th>\n      <td>Male</td>\n      <td>190</td>\n      <td>50</td>\n      <td>13.850416</td>\n      <td>5</td>\n    </tr>\n  </tbody>\n</table>\n</div>"
     },
     "metadata": {},
     "execution_count": 23
    }
   ],
   "source": [
    "df = pd.read_excel('bmi_data.xlsx')\n",
    "df.head()"
   ]
  },
  {
   "cell_type": "code",
   "execution_count": 29,
   "metadata": {
    "tags": []
   },
   "outputs": [
    {
     "output_type": "stream",
     "name": "stdout",
     "text": "[[ 1.  3.  7.  8.  1.  2.  3.  6.  8.  3.]\n [ 7.  8.  2.  6.  5.  4.  3.  1.  4.  5.]\n [ 9.  3.  5.  3.  7.  9.  2.  4.  6.  2.]\n [ 4.  4.  3.  1.  6.  4.  6.  5.  5.  9.]\n [ 7.  7.  5.  5.  6.  4.  4.  4. 10.  8.]\n [ 2.  3.  4.  4.  6.  7.  3.  4.  6.  3.]\n [10.  3.  9.  4.  4.  7.  9.  2.  5.  9.]\n [ 5.  4.  8.  8.  8.  3.  7.  8. 11.  7.]\n [ 7.  5.  5.  3.  9.  3.  5.  4.  4.  2.]\n [ 4.  4.  1.  2.  4.  7.  4.  3.  3.  4.]]\n"
    }
   ],
   "source": [
    "#Create bins\n",
    "height_number_of_bins = 10\n",
    "weight_number_of_bins = 10\n",
    "\n",
    "height_range_step = (df['Height'].max() - df['Height'].min() + 1)/height_number_of_bins\n",
    "weight_range_step = (df['Weight'].max() - df['Weight'].min() + 1)/weight_number_of_bins\n",
    "\n",
    "#Create grid of bins\n",
    "grid_dim  = (height_number_of_bins, weight_number_of_bins)\n",
    "bins_grid = np.zeros(grid_dim)\n",
    "\n",
    "height_column = df['Height']\n",
    "weight_column = df['Weight']\n",
    "\n",
    "for i in range(df.shape[0]):\n",
    "    grid_bin_height_idx = int(( height_column[i] - df['Height'].min() ) // height_range_step)\n",
    "    grid_bin_weight_idx = int(( weight_column[i] - df['Weight'].min() ) // weight_range_step)\n",
    "    bins_grid[grid_bin_height_idx][grid_bin_weight_idx] += 1\n",
    "\n",
    "print(bins_grid)\n",
    "\n"
   ]
  },
  {
   "cell_type": "code",
   "execution_count": null,
   "metadata": {},
   "outputs": [],
   "source": []
  }
 ]
}