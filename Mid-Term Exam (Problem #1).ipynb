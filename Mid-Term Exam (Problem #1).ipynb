{
 "cells": [
  {
   "cell_type": "code",
   "execution_count": 1,
   "metadata": {
    "ExecuteTime": {
     "end_time": "2020-06-30T01:15:02.312048Z",
     "start_time": "2020-06-30T01:15:00.178445Z"
    }
   },
   "outputs": [],
   "source": [
    "import pandas as pd\n",
    "import numpy as np\n",
    "import math as m\n",
    "from scipy import stats\n",
    "import matplotlib.pyplot as plt\n",
    "from statsmodels.regression.linear_model import OLS\n",
    "from statsmodels.tools.tools import add_constant"
   ]
  },
  {
   "cell_type": "code",
   "execution_count": 2,
   "metadata": {
    "ExecuteTime": {
     "end_time": "2020-06-30T01:15:02.396529Z",
     "start_time": "2020-06-30T01:15:02.316135Z"
    }
   },
   "outputs": [
    {
     "data": {
      "text/plain": [
       "Index(['Country', 'Region', 'Happiness Score', 'Economy (GDP per Capita)',\n",
       "       'Family', 'Health (Life Expectancy)', 'Freedom',\n",
       "       'Trust (Government Corruption)', 'Generosity'],\n",
       "      dtype='object')"
      ]
     },
     "execution_count": 2,
     "metadata": {},
     "output_type": "execute_result"
    }
   ],
   "source": [
    "# Read data\n",
    "df_hscore = pd.read_csv('Happiness.csv')\n",
    "df_hscore.columns"
   ]
  },
  {
   "cell_type": "code",
   "execution_count": 3,
   "metadata": {
    "ExecuteTime": {
     "end_time": "2020-06-30T01:15:02.818456Z",
     "start_time": "2020-06-30T01:15:02.401061Z"
    }
   },
   "outputs": [],
   "source": [
    "# Split the data into Y (output) and X (input)\n",
    "Y = df_hscore[['Happiness Score']]\n",
    "X = df_hscore[['Economy (GDP per Capita)', 'Family', 'Health (Life Expectancy)', 'Freedom', 'Trust (Government Corruption)', 'Generosity']]"
   ]
  },
  {
   "cell_type": "code",
   "execution_count": 4,
   "metadata": {},
   "outputs": [],
   "source": [
    "# Normalize data\n",
    "x_data = np.array(X)\n",
    "for i in range(0,len(X.columns)-1):\n",
    "       x_data[:,i] = (x_data[:,i]-x_data[:,i].mean())/x_data[:,i].std()\n",
    "\n",
    "df_norm = pd.DataFrame(x_data, columns = X.columns)"
   ]
  },
  {
   "cell_type": "code",
   "execution_count": 5,
   "metadata": {
    "ExecuteTime": {
     "end_time": "2020-06-30T01:15:02.867419Z",
     "start_time": "2020-06-30T01:15:02.821459Z"
    }
   },
   "outputs": [
    {
     "data": {
      "text/html": [
       "<table class=\"simpletable\">\n",
       "<caption>OLS Regression Results</caption>\n",
       "<tr>\n",
       "  <th>Dep. Variable:</th>     <td>Happiness Score</td> <th>  R-squared:         </th> <td>   0.788</td>\n",
       "</tr>\n",
       "<tr>\n",
       "  <th>Model:</th>                   <td>OLS</td>       <th>  Adj. R-squared:    </th> <td>   0.779</td>\n",
       "</tr>\n",
       "<tr>\n",
       "  <th>Method:</th>             <td>Least Squares</td>  <th>  F-statistic:       </th> <td>   92.65</td>\n",
       "</tr>\n",
       "<tr>\n",
       "  <th>Date:</th>             <td>Sat, 11 Jul 2020</td> <th>  Prob (F-statistic):</th> <td>6.49e-48</td>\n",
       "</tr>\n",
       "<tr>\n",
       "  <th>Time:</th>                 <td>16:01:16</td>     <th>  Log-Likelihood:    </th> <td> -121.49</td>\n",
       "</tr>\n",
       "<tr>\n",
       "  <th>No. Observations:</th>      <td>   157</td>      <th>  AIC:               </th> <td>   257.0</td>\n",
       "</tr>\n",
       "<tr>\n",
       "  <th>Df Residuals:</th>          <td>   150</td>      <th>  BIC:               </th> <td>   278.4</td>\n",
       "</tr>\n",
       "<tr>\n",
       "  <th>Df Model:</th>              <td>     6</td>      <th>                     </th>     <td> </td>   \n",
       "</tr>\n",
       "<tr>\n",
       "  <th>Covariance Type:</th>      <td>nonrobust</td>    <th>                     </th>     <td> </td>   \n",
       "</tr>\n",
       "</table>\n",
       "<table class=\"simpletable\">\n",
       "<tr>\n",
       "                <td></td>                   <th>coef</th>     <th>std err</th>      <th>t</th>      <th>P>|t|</th>  <th>[0.025</th>    <th>0.975]</th>  \n",
       "</tr>\n",
       "<tr>\n",
       "  <th>const</th>                         <td>    5.3435</td> <td>    0.098</td> <td>   54.668</td> <td> 0.000</td> <td>    5.150</td> <td>    5.537</td>\n",
       "</tr>\n",
       "<tr>\n",
       "  <th>Economy (GDP per Capita)</th>      <td>    0.2967</td> <td>    0.089</td> <td>    3.323</td> <td> 0.001</td> <td>    0.120</td> <td>    0.473</td>\n",
       "</tr>\n",
       "<tr>\n",
       "  <th>Family</th>                        <td>    0.3269</td> <td>    0.061</td> <td>    5.353</td> <td> 0.000</td> <td>    0.206</td> <td>    0.448</td>\n",
       "</tr>\n",
       "<tr>\n",
       "  <th>Health (Life Expectancy)</th>      <td>    0.3284</td> <td>    0.080</td> <td>    4.117</td> <td> 0.000</td> <td>    0.171</td> <td>    0.486</td>\n",
       "</tr>\n",
       "<tr>\n",
       "  <th>Freedom</th>                       <td>    0.2196</td> <td>    0.056</td> <td>    3.902</td> <td> 0.000</td> <td>    0.108</td> <td>    0.331</td>\n",
       "</tr>\n",
       "<tr>\n",
       "  <th>Trust (Government Corruption)</th> <td>    0.1017</td> <td>    0.051</td> <td>    1.977</td> <td> 0.050</td> <td> 6.67e-05</td> <td>    0.203</td>\n",
       "</tr>\n",
       "<tr>\n",
       "  <th>Generosity</th>                    <td>    0.1595</td> <td>    0.362</td> <td>    0.440</td> <td> 0.660</td> <td>   -0.556</td> <td>    0.875</td>\n",
       "</tr>\n",
       "</table>\n",
       "<table class=\"simpletable\">\n",
       "<tr>\n",
       "  <th>Omnibus:</th>       <td> 3.267</td> <th>  Durbin-Watson:     </th> <td>   1.731</td>\n",
       "</tr>\n",
       "<tr>\n",
       "  <th>Prob(Omnibus):</th> <td> 0.195</td> <th>  Jarque-Bera (JB):  </th> <td>   2.881</td>\n",
       "</tr>\n",
       "<tr>\n",
       "  <th>Skew:</th>          <td>-0.230</td> <th>  Prob(JB):          </th> <td>   0.237</td>\n",
       "</tr>\n",
       "<tr>\n",
       "  <th>Kurtosis:</th>      <td> 3.479</td> <th>  Cond. No.          </th> <td>    14.8</td>\n",
       "</tr>\n",
       "</table><br/><br/>Warnings:<br/>[1] Standard Errors assume that the covariance matrix of the errors is correctly specified."
      ],
      "text/plain": [
       "<class 'statsmodels.iolib.summary.Summary'>\n",
       "\"\"\"\n",
       "                            OLS Regression Results                            \n",
       "==============================================================================\n",
       "Dep. Variable:        Happiness Score   R-squared:                       0.788\n",
       "Model:                            OLS   Adj. R-squared:                  0.779\n",
       "Method:                 Least Squares   F-statistic:                     92.65\n",
       "Date:                Sat, 11 Jul 2020   Prob (F-statistic):           6.49e-48\n",
       "Time:                        16:01:16   Log-Likelihood:                -121.49\n",
       "No. Observations:                 157   AIC:                             257.0\n",
       "Df Residuals:                     150   BIC:                             278.4\n",
       "Df Model:                           6                                         \n",
       "Covariance Type:            nonrobust                                         \n",
       "=================================================================================================\n",
       "                                    coef    std err          t      P>|t|      [0.025      0.975]\n",
       "-------------------------------------------------------------------------------------------------\n",
       "const                             5.3435      0.098     54.668      0.000       5.150       5.537\n",
       "Economy (GDP per Capita)          0.2967      0.089      3.323      0.001       0.120       0.473\n",
       "Family                            0.3269      0.061      5.353      0.000       0.206       0.448\n",
       "Health (Life Expectancy)          0.3284      0.080      4.117      0.000       0.171       0.486\n",
       "Freedom                           0.2196      0.056      3.902      0.000       0.108       0.331\n",
       "Trust (Government Corruption)     0.1017      0.051      1.977      0.050    6.67e-05       0.203\n",
       "Generosity                        0.1595      0.362      0.440      0.660      -0.556       0.875\n",
       "==============================================================================\n",
       "Omnibus:                        3.267   Durbin-Watson:                   1.731\n",
       "Prob(Omnibus):                  0.195   Jarque-Bera (JB):                2.881\n",
       "Skew:                          -0.230   Prob(JB):                        0.237\n",
       "Kurtosis:                       3.479   Cond. No.                         14.8\n",
       "==============================================================================\n",
       "\n",
       "Warnings:\n",
       "[1] Standard Errors assume that the covariance matrix of the errors is correctly specified.\n",
       "\"\"\""
      ]
     },
     "execution_count": 5,
     "metadata": {},
     "output_type": "execute_result"
    }
   ],
   "source": [
    "# Fit an Ordinary Least Squares (OLS) Regression estimator\n",
    "ols_model = OLS(Y, add_constant(df_norm)).fit()\n",
    "ols_model.summary()"
   ]
  },
  {
   "cell_type": "code",
   "execution_count": 6,
   "metadata": {
    "ExecuteTime": {
     "end_time": "2020-06-30T01:15:15.566433Z",
     "start_time": "2020-06-30T01:15:15.559469Z"
    }
   },
   "outputs": [],
   "source": [
    "# New dataframe column with the OLS predictions\n",
    "df_hscore['OLS_fit'] = ols_model.predict()"
   ]
  },
  {
   "cell_type": "code",
   "execution_count": 7,
   "metadata": {},
   "outputs": [],
   "source": [
    "# Calculate residuals, degrees of freedom and\n",
    "res = df_hscore['Happiness Score'] - df_hscore['OLS_fit']\n",
    "n = len(df_norm)\n",
    "p = len(df_norm.columns)\n",
    "dof = n - p - 1"
   ]
  },
  {
   "cell_type": "code",
   "execution_count": 8,
   "metadata": {},
   "outputs": [],
   "source": [
    "# Calculate sigma^2(hat) and (X*X^T)^-1\n",
    "sigma_sq_est = (res**2).sum()/dof\n",
    "X_sq_mat_inv = np.linalg.inv(np.matmul(np.transpose(x_data),x_data))"
   ]
  },
  {
   "cell_type": "code",
   "execution_count": 9,
   "metadata": {},
   "outputs": [],
   "source": [
    "# A vector with 0.5 incrementes in Happiness Score\n",
    "selected_values = np.arange(np.array(Y).min().round(),np.array(Y).max().round(),0.5)\n",
    "sel_values = np.reshape(selected_values, (len(selected_values),1))"
   ]
  }
 ],
 "metadata": {
  "kernelspec": {
   "display_name": "Python 3",
   "language": "python",
   "name": "python3"
  },
  "language_info": {
   "codemirror_mode": {
    "name": "ipython",
    "version": 3
   },
   "file_extension": ".py",
   "mimetype": "text/x-python",
   "name": "python",
   "nbconvert_exporter": "python",
   "pygments_lexer": "ipython3",
   "version": "3.7.6"
  },
  "latex_envs": {
   "LaTeX_envs_menu_present": true,
   "autoclose": false,
   "autocomplete": true,
   "bibliofile": "biblio.bib",
   "cite_by": "apalike",
   "current_citInitial": 1,
   "eqLabelWithNumbers": true,
   "eqNumInitial": 1,
   "hotkeys": {
    "equation": "Ctrl-E",
    "itemize": "Ctrl-I"
   },
   "labels_anchors": false,
   "latex_user_defs": false,
   "report_style_numbering": false,
   "user_envs_cfg": false
  }
 },
 "nbformat": 4,
 "nbformat_minor": 2
}
