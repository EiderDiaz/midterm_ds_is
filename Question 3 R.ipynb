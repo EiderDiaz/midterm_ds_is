{
 "cells": [
  {
   "cell_type": "code",
   "execution_count": 3,
   "metadata": {},
   "outputs": [
    {
     "ename": "NameError",
     "evalue": "name 'df_leuk' is not defined",
     "output_type": "error",
     "traceback": [
      "\u001b[1;31m---------------------------------------------------------------------------\u001b[0m",
      "\u001b[1;31mNameError\u001b[0m                                 Traceback (most recent call last)",
      "\u001b[1;32m<ipython-input-3-20d09558a2c7>\u001b[0m in \u001b[0;36m<module>\u001b[1;34m\u001b[0m\n\u001b[0;32m     17\u001b[0m \u001b[1;33m\u001b[0m\u001b[0m\n\u001b[0;32m     18\u001b[0m \u001b[1;31m# Activity of gene 136 on ALL (acute lymphoblastic leukemia) patients\u001b[0m\u001b[1;33m\u001b[0m\u001b[1;33m\u001b[0m\u001b[1;33m\u001b[0m\u001b[0m\n\u001b[1;32m---> 19\u001b[1;33m \u001b[0mcol_names\u001b[0m \u001b[1;33m=\u001b[0m \u001b[0mdf_leuk\u001b[0m\u001b[1;33m.\u001b[0m\u001b[0mcolumns\u001b[0m\u001b[1;33m\u001b[0m\u001b[1;33m\u001b[0m\u001b[0m\n\u001b[0m\u001b[0;32m     20\u001b[0m \u001b[0mprint\u001b[0m\u001b[1;33m(\u001b[0m\u001b[1;34m'ALL Scores'\u001b[0m\u001b[1;33m)\u001b[0m\u001b[1;33m\u001b[0m\u001b[1;33m\u001b[0m\u001b[0m\n\u001b[0;32m     21\u001b[0m \u001b[0mdf_leuk\u001b[0m\u001b[1;33m[\u001b[0m\u001b[1;33m[\u001b[0m\u001b[0mcol\u001b[0m \u001b[1;32mfor\u001b[0m \u001b[0mcol\u001b[0m \u001b[1;32min\u001b[0m \u001b[0mcol_names\u001b[0m \u001b[1;32mif\u001b[0m \u001b[1;34m'ALL'\u001b[0m \u001b[1;32min\u001b[0m \u001b[0mcol\u001b[0m\u001b[1;33m]\u001b[0m\u001b[1;33m]\u001b[0m\u001b[1;33m.\u001b[0m\u001b[0miloc\u001b[0m\u001b[1;33m[\u001b[0m\u001b[1;36m135\u001b[0m\u001b[1;33m]\u001b[0m\u001b[1;33m.\u001b[0m\u001b[0mplot\u001b[0m\u001b[1;33m.\u001b[0m\u001b[0mhist\u001b[0m\u001b[1;33m(\u001b[0m\u001b[0mfigsize\u001b[0m\u001b[1;33m=\u001b[0m\u001b[1;33m(\u001b[0m\u001b[1;36m20\u001b[0m\u001b[1;33m,\u001b[0m\u001b[1;36m10\u001b[0m\u001b[1;33m)\u001b[0m\u001b[1;33m,\u001b[0m \u001b[0mbins\u001b[0m\u001b[1;33m=\u001b[0m\u001b[1;36m11\u001b[0m\u001b[1;33m,\u001b[0m \u001b[0mylim\u001b[0m\u001b[1;33m=\u001b[0m\u001b[1;33m(\u001b[0m\u001b[1;36m0\u001b[0m\u001b[1;33m,\u001b[0m\u001b[1;36m14\u001b[0m\u001b[1;33m)\u001b[0m\u001b[1;33m)\u001b[0m\u001b[1;33m\u001b[0m\u001b[1;33m\u001b[0m\u001b[0m\n",
      "\u001b[1;31mNameError\u001b[0m: name 'df_leuk' is not defined"
     ]
    }
   ],
   "source": [
    "# Import libraries that we'll need...\n",
    "import pandas as pd\n",
    "import numpy as np\n",
    "from scipy import stats# As usual, plot the data...\n",
    "from sklearn.utils import resample\n",
    "import matplotlib\n",
    "from statsmodels.regression.linear_model import OLS\n",
    "from statsmodels.tools.tools import add_constant\n",
    "from statsmodels.nonparametric.smoothers_lowess import lowess\n",
    "\n",
    "\n",
    "\n",
    "# Import libraries that we'll need...\n",
    "\n",
    "import matplotlib.pyplot as plt\n",
    "from scipy import stats\n",
    "\n",
    "# Activity of gene 136 on ALL (acute lymphoblastic leukemia) patients\n",
    "col_names = df_leuk.columns\n",
    "print('ALL Scores')\n",
    "df_leuk[[col for col in col_names if 'ALL' in col]].iloc[135].plot.hist(figsize=(20,10), bins=11, ylim=(0,14))\n",
    "print('mean: ' + str(df_leuk[[col for col in col_names if 'ALL' in col]].iloc[135].mean())) "
   ]
  },
  {
   "cell_type": "code",
   "execution_count": 4,
   "metadata": {},
   "outputs": [
    {
     "data": {
      "text/html": [
       "<div>\n",
       "<style scoped>\n",
       "    .dataframe tbody tr th:only-of-type {\n",
       "        vertical-align: middle;\n",
       "    }\n",
       "\n",
       "    .dataframe tbody tr th {\n",
       "        vertical-align: top;\n",
       "    }\n",
       "\n",
       "    .dataframe thead th {\n",
       "        text-align: right;\n",
       "    }\n",
       "</style>\n",
       "<table border=\"1\" class=\"dataframe\">\n",
       "  <thead>\n",
       "    <tr style=\"text-align: right;\">\n",
       "      <th></th>\n",
       "      <th>Country</th>\n",
       "      <th>Region</th>\n",
       "      <th>Happiness Score</th>\n",
       "      <th>Economy (GDP per Capita)</th>\n",
       "      <th>Family</th>\n",
       "      <th>Health (Life Expectancy)</th>\n",
       "      <th>Freedom</th>\n",
       "      <th>Trust (Government Corruption)</th>\n",
       "      <th>Generosity</th>\n",
       "    </tr>\n",
       "  </thead>\n",
       "  <tbody>\n",
       "    <tr>\n",
       "      <th>13</th>\n",
       "      <td>Costa Rica</td>\n",
       "      <td>Latin America and Caribbean</td>\n",
       "      <td>7.087</td>\n",
       "      <td>1.06879</td>\n",
       "      <td>1.02152</td>\n",
       "      <td>0.76146</td>\n",
       "      <td>0.55225</td>\n",
       "      <td>0.10547</td>\n",
       "      <td>0.22553</td>\n",
       "    </tr>\n",
       "    <tr>\n",
       "      <th>14</th>\n",
       "      <td>Puerto Rico</td>\n",
       "      <td>Latin America and Caribbean</td>\n",
       "      <td>7.039</td>\n",
       "      <td>1.35943</td>\n",
       "      <td>1.08113</td>\n",
       "      <td>0.77758</td>\n",
       "      <td>0.46823</td>\n",
       "      <td>0.12275</td>\n",
       "      <td>0.22202</td>\n",
       "    </tr>\n",
       "    <tr>\n",
       "      <th>16</th>\n",
       "      <td>Brazil</td>\n",
       "      <td>Latin America and Caribbean</td>\n",
       "      <td>6.952</td>\n",
       "      <td>1.08754</td>\n",
       "      <td>1.03938</td>\n",
       "      <td>0.61415</td>\n",
       "      <td>0.40425</td>\n",
       "      <td>0.14166</td>\n",
       "      <td>0.15776</td>\n",
       "    </tr>\n",
       "    <tr>\n",
       "      <th>20</th>\n",
       "      <td>Mexico</td>\n",
       "      <td>Latin America and Caribbean</td>\n",
       "      <td>6.778</td>\n",
       "      <td>1.11508</td>\n",
       "      <td>0.71460</td>\n",
       "      <td>0.71143</td>\n",
       "      <td>0.37709</td>\n",
       "      <td>0.18355</td>\n",
       "      <td>0.11735</td>\n",
       "    </tr>\n",
       "    <tr>\n",
       "      <th>23</th>\n",
       "      <td>Chile</td>\n",
       "      <td>Latin America and Caribbean</td>\n",
       "      <td>6.705</td>\n",
       "      <td>1.21670</td>\n",
       "      <td>0.90587</td>\n",
       "      <td>0.81883</td>\n",
       "      <td>0.37789</td>\n",
       "      <td>0.11451</td>\n",
       "      <td>0.31595</td>\n",
       "    </tr>\n",
       "    <tr>\n",
       "      <th>24</th>\n",
       "      <td>Panama</td>\n",
       "      <td>Latin America and Caribbean</td>\n",
       "      <td>6.701</td>\n",
       "      <td>1.18306</td>\n",
       "      <td>0.98912</td>\n",
       "      <td>0.70835</td>\n",
       "      <td>0.48927</td>\n",
       "      <td>0.08423</td>\n",
       "      <td>0.24180</td>\n",
       "    </tr>\n",
       "    <tr>\n",
       "      <th>25</th>\n",
       "      <td>Argentina</td>\n",
       "      <td>Latin America and Caribbean</td>\n",
       "      <td>6.650</td>\n",
       "      <td>1.15137</td>\n",
       "      <td>1.06612</td>\n",
       "      <td>0.69711</td>\n",
       "      <td>0.42284</td>\n",
       "      <td>0.07296</td>\n",
       "      <td>0.10989</td>\n",
       "    </tr>\n",
       "    <tr>\n",
       "      <th>28</th>\n",
       "      <td>Uruguay</td>\n",
       "      <td>Latin America and Caribbean</td>\n",
       "      <td>6.545</td>\n",
       "      <td>1.18157</td>\n",
       "      <td>1.03143</td>\n",
       "      <td>0.72183</td>\n",
       "      <td>0.54388</td>\n",
       "      <td>0.21394</td>\n",
       "      <td>0.18056</td>\n",
       "    </tr>\n",
       "    <tr>\n",
       "      <th>30</th>\n",
       "      <td>Colombia</td>\n",
       "      <td>Latin America and Caribbean</td>\n",
       "      <td>6.481</td>\n",
       "      <td>1.03032</td>\n",
       "      <td>1.02169</td>\n",
       "      <td>0.59659</td>\n",
       "      <td>0.44735</td>\n",
       "      <td>0.05399</td>\n",
       "      <td>0.15626</td>\n",
       "    </tr>\n",
       "    <tr>\n",
       "      <th>38</th>\n",
       "      <td>Guatemala</td>\n",
       "      <td>Latin America and Caribbean</td>\n",
       "      <td>6.324</td>\n",
       "      <td>0.83454</td>\n",
       "      <td>0.87119</td>\n",
       "      <td>0.54039</td>\n",
       "      <td>0.50379</td>\n",
       "      <td>0.08701</td>\n",
       "      <td>0.28808</td>\n",
       "    </tr>\n",
       "    <tr>\n",
       "      <th>39</th>\n",
       "      <td>Suriname</td>\n",
       "      <td>Latin America and Caribbean</td>\n",
       "      <td>6.269</td>\n",
       "      <td>1.09686</td>\n",
       "      <td>0.77866</td>\n",
       "      <td>0.50933</td>\n",
       "      <td>0.52234</td>\n",
       "      <td>0.12692</td>\n",
       "      <td>0.16665</td>\n",
       "    </tr>\n",
       "    <tr>\n",
       "      <th>42</th>\n",
       "      <td>Trinidad and Tobago</td>\n",
       "      <td>Latin America and Caribbean</td>\n",
       "      <td>6.168</td>\n",
       "      <td>1.32572</td>\n",
       "      <td>0.98569</td>\n",
       "      <td>0.52608</td>\n",
       "      <td>0.48453</td>\n",
       "      <td>0.01241</td>\n",
       "      <td>0.31935</td>\n",
       "    </tr>\n",
       "    <tr>\n",
       "      <th>43</th>\n",
       "      <td>Venezuela</td>\n",
       "      <td>Latin America and Caribbean</td>\n",
       "      <td>6.084</td>\n",
       "      <td>1.13367</td>\n",
       "      <td>1.03302</td>\n",
       "      <td>0.61904</td>\n",
       "      <td>0.19847</td>\n",
       "      <td>0.08304</td>\n",
       "      <td>0.04250</td>\n",
       "    </tr>\n",
       "    <tr>\n",
       "      <th>45</th>\n",
       "      <td>El Salvador</td>\n",
       "      <td>Latin America and Caribbean</td>\n",
       "      <td>6.068</td>\n",
       "      <td>0.87370</td>\n",
       "      <td>0.80975</td>\n",
       "      <td>0.59600</td>\n",
       "      <td>0.37269</td>\n",
       "      <td>0.10613</td>\n",
       "      <td>0.08877</td>\n",
       "    </tr>\n",
       "    <tr>\n",
       "      <th>47</th>\n",
       "      <td>Nicaragua</td>\n",
       "      <td>Latin America and Caribbean</td>\n",
       "      <td>5.992</td>\n",
       "      <td>0.69384</td>\n",
       "      <td>0.89521</td>\n",
       "      <td>0.65213</td>\n",
       "      <td>0.46582</td>\n",
       "      <td>0.16292</td>\n",
       "      <td>0.29773</td>\n",
       "    </tr>\n",
       "    <tr>\n",
       "      <th>50</th>\n",
       "      <td>Ecuador</td>\n",
       "      <td>Latin America and Caribbean</td>\n",
       "      <td>5.976</td>\n",
       "      <td>0.97306</td>\n",
       "      <td>0.85974</td>\n",
       "      <td>0.68613</td>\n",
       "      <td>0.40270</td>\n",
       "      <td>0.18037</td>\n",
       "      <td>0.10074</td>\n",
       "    </tr>\n",
       "    <tr>\n",
       "      <th>51</th>\n",
       "      <td>Belize</td>\n",
       "      <td>Latin America and Caribbean</td>\n",
       "      <td>5.956</td>\n",
       "      <td>0.87616</td>\n",
       "      <td>0.68655</td>\n",
       "      <td>0.45569</td>\n",
       "      <td>0.51231</td>\n",
       "      <td>0.10771</td>\n",
       "      <td>0.23684</td>\n",
       "    </tr>\n",
       "    <tr>\n",
       "      <th>58</th>\n",
       "      <td>Bolivia</td>\n",
       "      <td>Latin America and Caribbean</td>\n",
       "      <td>5.822</td>\n",
       "      <td>0.79422</td>\n",
       "      <td>0.83779</td>\n",
       "      <td>0.46970</td>\n",
       "      <td>0.50961</td>\n",
       "      <td>0.07746</td>\n",
       "      <td>0.21698</td>\n",
       "    </tr>\n",
       "    <tr>\n",
       "      <th>63</th>\n",
       "      <td>Peru</td>\n",
       "      <td>Latin America and Caribbean</td>\n",
       "      <td>5.743</td>\n",
       "      <td>0.99602</td>\n",
       "      <td>0.81255</td>\n",
       "      <td>0.62994</td>\n",
       "      <td>0.37502</td>\n",
       "      <td>0.05292</td>\n",
       "      <td>0.14527</td>\n",
       "    </tr>\n",
       "    <tr>\n",
       "      <th>69</th>\n",
       "      <td>Paraguay</td>\n",
       "      <td>Latin America and Caribbean</td>\n",
       "      <td>5.538</td>\n",
       "      <td>0.89373</td>\n",
       "      <td>1.11111</td>\n",
       "      <td>0.58295</td>\n",
       "      <td>0.46235</td>\n",
       "      <td>0.07396</td>\n",
       "      <td>0.25296</td>\n",
       "    </tr>\n",
       "    <tr>\n",
       "      <th>72</th>\n",
       "      <td>Jamaica</td>\n",
       "      <td>Latin America and Caribbean</td>\n",
       "      <td>5.510</td>\n",
       "      <td>0.89333</td>\n",
       "      <td>0.96372</td>\n",
       "      <td>0.59469</td>\n",
       "      <td>0.43597</td>\n",
       "      <td>0.04294</td>\n",
       "      <td>0.22245</td>\n",
       "    </tr>\n",
       "    <tr>\n",
       "      <th>88</th>\n",
       "      <td>Dominican Republic</td>\n",
       "      <td>Latin America and Caribbean</td>\n",
       "      <td>5.155</td>\n",
       "      <td>1.02787</td>\n",
       "      <td>0.99496</td>\n",
       "      <td>0.57669</td>\n",
       "      <td>0.52259</td>\n",
       "      <td>0.12372</td>\n",
       "      <td>0.21286</td>\n",
       "    </tr>\n",
       "    <tr>\n",
       "      <th>103</th>\n",
       "      <td>Honduras</td>\n",
       "      <td>Latin America and Caribbean</td>\n",
       "      <td>4.871</td>\n",
       "      <td>0.69429</td>\n",
       "      <td>0.75596</td>\n",
       "      <td>0.58383</td>\n",
       "      <td>0.26755</td>\n",
       "      <td>0.06906</td>\n",
       "      <td>0.20440</td>\n",
       "    </tr>\n",
       "    <tr>\n",
       "      <th>135</th>\n",
       "      <td>Haiti</td>\n",
       "      <td>Latin America and Caribbean</td>\n",
       "      <td>4.028</td>\n",
       "      <td>0.34097</td>\n",
       "      <td>0.29561</td>\n",
       "      <td>0.27494</td>\n",
       "      <td>0.12072</td>\n",
       "      <td>0.14476</td>\n",
       "      <td>0.47958</td>\n",
       "    </tr>\n",
       "  </tbody>\n",
       "</table>\n",
       "</div>"
      ],
      "text/plain": [
       "                 Country                       Region  Happiness Score  \\\n",
       "13            Costa Rica  Latin America and Caribbean            7.087   \n",
       "14           Puerto Rico  Latin America and Caribbean            7.039   \n",
       "16                Brazil  Latin America and Caribbean            6.952   \n",
       "20                Mexico  Latin America and Caribbean            6.778   \n",
       "23                 Chile  Latin America and Caribbean            6.705   \n",
       "24                Panama  Latin America and Caribbean            6.701   \n",
       "25             Argentina  Latin America and Caribbean            6.650   \n",
       "28               Uruguay  Latin America and Caribbean            6.545   \n",
       "30              Colombia  Latin America and Caribbean            6.481   \n",
       "38             Guatemala  Latin America and Caribbean            6.324   \n",
       "39              Suriname  Latin America and Caribbean            6.269   \n",
       "42   Trinidad and Tobago  Latin America and Caribbean            6.168   \n",
       "43             Venezuela  Latin America and Caribbean            6.084   \n",
       "45           El Salvador  Latin America and Caribbean            6.068   \n",
       "47             Nicaragua  Latin America and Caribbean            5.992   \n",
       "50               Ecuador  Latin America and Caribbean            5.976   \n",
       "51                Belize  Latin America and Caribbean            5.956   \n",
       "58               Bolivia  Latin America and Caribbean            5.822   \n",
       "63                  Peru  Latin America and Caribbean            5.743   \n",
       "69              Paraguay  Latin America and Caribbean            5.538   \n",
       "72               Jamaica  Latin America and Caribbean            5.510   \n",
       "88    Dominican Republic  Latin America and Caribbean            5.155   \n",
       "103             Honduras  Latin America and Caribbean            4.871   \n",
       "135                Haiti  Latin America and Caribbean            4.028   \n",
       "\n",
       "     Economy (GDP per Capita)   Family  Health (Life Expectancy)  Freedom  \\\n",
       "13                    1.06879  1.02152                   0.76146  0.55225   \n",
       "14                    1.35943  1.08113                   0.77758  0.46823   \n",
       "16                    1.08754  1.03938                   0.61415  0.40425   \n",
       "20                    1.11508  0.71460                   0.71143  0.37709   \n",
       "23                    1.21670  0.90587                   0.81883  0.37789   \n",
       "24                    1.18306  0.98912                   0.70835  0.48927   \n",
       "25                    1.15137  1.06612                   0.69711  0.42284   \n",
       "28                    1.18157  1.03143                   0.72183  0.54388   \n",
       "30                    1.03032  1.02169                   0.59659  0.44735   \n",
       "38                    0.83454  0.87119                   0.54039  0.50379   \n",
       "39                    1.09686  0.77866                   0.50933  0.52234   \n",
       "42                    1.32572  0.98569                   0.52608  0.48453   \n",
       "43                    1.13367  1.03302                   0.61904  0.19847   \n",
       "45                    0.87370  0.80975                   0.59600  0.37269   \n",
       "47                    0.69384  0.89521                   0.65213  0.46582   \n",
       "50                    0.97306  0.85974                   0.68613  0.40270   \n",
       "51                    0.87616  0.68655                   0.45569  0.51231   \n",
       "58                    0.79422  0.83779                   0.46970  0.50961   \n",
       "63                    0.99602  0.81255                   0.62994  0.37502   \n",
       "69                    0.89373  1.11111                   0.58295  0.46235   \n",
       "72                    0.89333  0.96372                   0.59469  0.43597   \n",
       "88                    1.02787  0.99496                   0.57669  0.52259   \n",
       "103                   0.69429  0.75596                   0.58383  0.26755   \n",
       "135                   0.34097  0.29561                   0.27494  0.12072   \n",
       "\n",
       "     Trust (Government Corruption)  Generosity  \n",
       "13                         0.10547     0.22553  \n",
       "14                         0.12275     0.22202  \n",
       "16                         0.14166     0.15776  \n",
       "20                         0.18355     0.11735  \n",
       "23                         0.11451     0.31595  \n",
       "24                         0.08423     0.24180  \n",
       "25                         0.07296     0.10989  \n",
       "28                         0.21394     0.18056  \n",
       "30                         0.05399     0.15626  \n",
       "38                         0.08701     0.28808  \n",
       "39                         0.12692     0.16665  \n",
       "42                         0.01241     0.31935  \n",
       "43                         0.08304     0.04250  \n",
       "45                         0.10613     0.08877  \n",
       "47                         0.16292     0.29773  \n",
       "50                         0.18037     0.10074  \n",
       "51                         0.10771     0.23684  \n",
       "58                         0.07746     0.21698  \n",
       "63                         0.05292     0.14527  \n",
       "69                         0.07396     0.25296  \n",
       "72                         0.04294     0.22245  \n",
       "88                         0.12372     0.21286  \n",
       "103                        0.06906     0.20440  \n",
       "135                        0.14476     0.47958  "
      ]
     },
     "execution_count": 4,
     "metadata": {},
     "output_type": "execute_result"
    }
   ],
   "source": [
    "# Import data (I uploaded a copy to blackboard) and see what's in it\n",
    "df_func_happy = pd.read_csv('Happiness.csv')\n",
    "df_func_happy\n",
    "\n",
    "df_LA = df_func_happy[df_func_happy['Region'] == 'Latin America and Caribbean']\n",
    "df_others =df_func_happy[df_func_happy['Region'] != 'Latin America and Caribbean']\n",
    "\n",
    "df_LA"
   ]
  },
  {
   "cell_type": "code",
   "execution_count": 23,
   "metadata": {},
   "outputs": [
    {
     "data": {
      "text/plain": [
       "<matplotlib.axes._subplots.AxesSubplot at 0x2a15b7c5bc8>"
      ]
     },
     "execution_count": 23,
     "metadata": {},
     "output_type": "execute_result"
    },
    {
     "data": {
      "image/png": "[encoded data removed]",
      "text/plain": [
       "<Figure size 1440x720 with 1 Axes>"
      ]
     },
     "metadata": {
      "needs_background": "light"
     },
     "output_type": "display_data"
    }
   ],
   "source": [
    "# As usual, plot the data...\n",
    "properties = ['Economy (GDP per Capita)','Family','Health (Life Expectancy)','Freedom','Trust(Government Corruption)','Generosity']\n",
    "df_func_happy.plot(x='Economy (GDP per Capita)', y='Happiness Score', kind='scatter', figsize=(20,10))"
   ]
  },
  {
   "cell_type": "code",
   "execution_count": 24,
   "metadata": {},
   "outputs": [
    {
     "data": {
      "text/html": [
       "<table class=\"simpletable\">\n",
       "<caption>OLS Regression Results</caption>\n",
       "<tr>\n",
       "  <th>Dep. Variable:</th>     <td>Happiness Score</td> <th>  R-squared:         </th> <td>   0.625</td>\n",
       "</tr>\n",
       "<tr>\n",
       "  <th>Model:</th>                   <td>OLS</td>       <th>  Adj. R-squared:    </th> <td>   0.622</td>\n",
       "</tr>\n",
       "<tr>\n",
       "  <th>Method:</th>             <td>Least Squares</td>  <th>  F-statistic:       </th> <td>   257.9</td>\n",
       "</tr>\n",
       "<tr>\n",
       "  <th>Date:</th>             <td>Sun, 12 Jul 2020</td> <th>  Prob (F-statistic):</th> <td>8.49e-35</td>\n",
       "</tr>\n",
       "<tr>\n",
       "  <th>Time:</th>                 <td>10:20:36</td>     <th>  Log-Likelihood:    </th> <td> -166.16</td>\n",
       "</tr>\n",
       "<tr>\n",
       "  <th>No. Observations:</th>      <td>   157</td>      <th>  AIC:               </th> <td>   336.3</td>\n",
       "</tr>\n",
       "<tr>\n",
       "  <th>Df Residuals:</th>          <td>   155</td>      <th>  BIC:               </th> <td>   342.4</td>\n",
       "</tr>\n",
       "<tr>\n",
       "  <th>Df Model:</th>              <td>     1</td>      <th>                     </th>     <td> </td>   \n",
       "</tr>\n",
       "<tr>\n",
       "  <th>Covariance Type:</th>      <td>nonrobust</td>    <th>                     </th>     <td> </td>   \n",
       "</tr>\n",
       "</table>\n",
       "<table class=\"simpletable\">\n",
       "<tr>\n",
       "              <td></td>                <th>coef</th>     <th>std err</th>      <th>t</th>      <th>P>|t|</th>  <th>[0.025</th>    <th>0.975]</th>  \n",
       "</tr>\n",
       "<tr>\n",
       "  <th>const</th>                    <td>    3.2962</td> <td>    0.141</td> <td>   23.302</td> <td> 0.000</td> <td>    3.017</td> <td>    3.576</td>\n",
       "</tr>\n",
       "<tr>\n",
       "  <th>Economy (GDP per Capita)</th> <td>    2.1869</td> <td>    0.136</td> <td>   16.059</td> <td> 0.000</td> <td>    1.918</td> <td>    2.456</td>\n",
       "</tr>\n",
       "</table>\n",
       "<table class=\"simpletable\">\n",
       "<tr>\n",
       "  <th>Omnibus:</th>       <td> 0.035</td> <th>  Durbin-Watson:     </th> <td>   1.396</td>\n",
       "</tr>\n",
       "<tr>\n",
       "  <th>Prob(Omnibus):</th> <td> 0.983</td> <th>  Jarque-Bera (JB):  </th> <td>   0.094</td>\n",
       "</tr>\n",
       "<tr>\n",
       "  <th>Skew:</th>          <td> 0.035</td> <th>  Prob(JB):          </th> <td>   0.954</td>\n",
       "</tr>\n",
       "<tr>\n",
       "  <th>Kurtosis:</th>      <td> 2.903</td> <th>  Cond. No.          </th> <td>    4.85</td>\n",
       "</tr>\n",
       "</table><br/><br/>Warnings:<br/>[1] Standard Errors assume that the covariance matrix of the errors is correctly specified."
      ],
      "text/plain": [
       "<class 'statsmodels.iolib.summary.Summary'>\n",
       "\"\"\"\n",
       "                            OLS Regression Results                            \n",
       "==============================================================================\n",
       "Dep. Variable:        Happiness Score   R-squared:                       0.625\n",
       "Model:                            OLS   Adj. R-squared:                  0.622\n",
       "Method:                 Least Squares   F-statistic:                     257.9\n",
       "Date:                Sun, 12 Jul 2020   Prob (F-statistic):           8.49e-35\n",
       "Time:                        10:20:36   Log-Likelihood:                -166.16\n",
       "No. Observations:                 157   AIC:                             336.3\n",
       "Df Residuals:                     155   BIC:                             342.4\n",
       "Df Model:                           1                                         \n",
       "Covariance Type:            nonrobust                                         \n",
       "============================================================================================\n",
       "                               coef    std err          t      P>|t|      [0.025      0.975]\n",
       "--------------------------------------------------------------------------------------------\n",
       "const                        3.2962      0.141     23.302      0.000       3.017       3.576\n",
       "Economy (GDP per Capita)     2.1869      0.136     16.059      0.000       1.918       2.456\n",
       "==============================================================================\n",
       "Omnibus:                        0.035   Durbin-Watson:                   1.396\n",
       "Prob(Omnibus):                  0.983   Jarque-Bera (JB):                0.094\n",
       "Skew:                           0.035   Prob(JB):                        0.954\n",
       "Kurtosis:                       2.903   Cond. No.                         4.85\n",
       "==============================================================================\n",
       "\n",
       "Warnings:\n",
       "[1] Standard Errors assume that the covariance matrix of the errors is correctly specified.\n",
       "\"\"\""
      ]
     },
     "execution_count": 24,
     "metadata": {},
     "output_type": "execute_result"
    }
   ],
   "source": [
    "# Fit an Ordinary Least Squares (OLS) Regression estimator\n",
    "ols_reg_model = OLS(df_func_happy['Happiness Score'], add_constant(df_func_happy['Economy (GDP per Capita)'])).fit()\n",
    "ols_reg_model.summary()"
   ]
  },
  {
   "cell_type": "code",
   "execution_count": 25,
   "metadata": {},
   "outputs": [],
   "source": [
    "# Fill a new dataframe column with the OLS predictions\n",
    "df_func_happy['OLS_fit'] =  ols_reg_model.predict()"
   ]
  },
  {
   "cell_type": "code",
   "execution_count": 26,
   "metadata": {},
   "outputs": [
    {
     "name": "stderr",
     "output_type": "stream",
     "text": [
      "No handles with labels found to put in legend.\n"
     ]
    },
    {
     "data": {
      "image/png": "[encoded data removed]",
      "text/plain": [
       "<Figure size 1440x720 with 1 Axes>"
      ]
     },
     "metadata": {
      "needs_background": "light"
     },
     "output_type": "display_data"
    }
   ],
   "source": [
    "# Plot OLS predictions in same graph as linear model prediction\n",
    "plt = matplotlib.pyplot\n",
    "plt.figure(figsize=(20,10))\n",
    "plt.scatter(df_func_happy['Economy (GDP per Capita)'], df_func_happy['Happiness Score'],\n",
    "         marker='o', color='skyblue', linewidth=2)\n",
    "plt.plot(df_func_happy['Economy (GDP per Capita)'], df_func_happy['OLS_fit'], color='olive')\n",
    "plt.legend()\n",
    "plt.show()"
   ]
  },
  {
   "cell_type": "code",
   "execution_count": 58,
   "metadata": {},
   "outputs": [
    {
     "name": "stdout",
     "output_type": "stream",
     "text": [
      "ALL Scores\n",
      "mean: Happiness Score                  6.101750\n",
      "Economy (GDP per Capita)         0.993410\n",
      "Family                           0.898432\n",
      "Health (Life Expectancy)         0.612703\n",
      "Freedom                          0.426646\n",
      "Trust (Government Corruption)    0.106016\n",
      "Generosity                       0.208428\n",
      "dtype: float64\n"
     ]
    },
    {
     "data": {
      "image/png": "[encoded data removed]",
      "text/plain": [
       "<Figure size 1440x720 with 1 Axes>"
      ]
     },
     "metadata": {
      "needs_background": "light"
     },
     "output_type": "display_data"
    }
   ],
   "source": [
    "# Activity of gene 136 on ALL (acute lymphoblastic leukemia) patients\n",
    "#col_names = df_leuk.columns\n",
    "print('ALL Scores')\n",
    "df_LA[properties[5]].plot.hist(figsize=(20,10), bins=11, ylim=(0,14))\n",
    "print('mean: ' + str(df_LA.mean()) )"
   ]
  },
  {
   "cell_type": "code",
   "execution_count": 47,
   "metadata": {},
   "outputs": [
    {
     "data": {
      "text/plain": [
       "<matplotlib.axes._subplots.AxesSubplot at 0x2a15aa252c8>"
      ]
     },
     "execution_count": 47,
     "metadata": {},
     "output_type": "execute_result"
    },
    {
     "data": {
      "image/png": "[encoded data removed]",
      "text/plain": [
       "<Figure size 1440x720 with 1 Axes>"
      ]
     },
     "metadata": {
      "needs_background": "light"
     },
     "output_type": "display_data"
    }
   ],
   "source": [
    "df_others['Happiness Score'].plot.hist(figsize=(20,10), bins=11, ylim=(0,14))"
   ]
  },
  {
   "cell_type": "code",
   "execution_count": null,
   "metadata": {},
   "outputs": [],
   "source": [
    "print('Happiness Score')\n",
    "print('mean LA: ' + str(df_LA['Happiness Score'].mean())) \n",
    "print('mean others: ' + str(df_others['Happiness Score'].mean())) \n",
    "stats.ttest_ind(df_LA[properties[0]], df_others['Happiness Score'])"
   ]
  },
  {
   "cell_type": "code",
   "execution_count": 28,
   "metadata": {},
   "outputs": [
    {
     "name": "stdout",
     "output_type": "stream",
     "text": [
      "Economy (GDP per Capita)\n",
      "mean LA: 0.9934099999999999\n",
      "mean others: 0.9467465413533837\n"
     ]
    },
    {
     "data": {
      "text/plain": [
       "Ttest_indResult(statistic=0.5087448153114481, pvalue=0.6116544921231134)"
      ]
     },
     "execution_count": 28,
     "metadata": {},
     "output_type": "execute_result"
    }
   ],
   "source": [
    "properties = ['Economy (GDP per Capita)','Family','Health (Life Expectancy)','Freedom','Trust (Government Corruption)','Generosity']\n",
    "# If assume same variances, then \n",
    "print(properties[0])\n",
    "print('mean LA: ' + str(df_LA[properties[0]].mean())) \n",
    "print('mean others: ' + str(df_others[properties[0]].mean())) \n",
    "stats.ttest_ind(df_LA[properties[0]], df_others[properties[0]])\n"
   ]
  },
  {
   "cell_type": "code",
   "execution_count": 29,
   "metadata": {},
   "outputs": [
    {
     "name": "stdout",
     "output_type": "stream",
     "text": [
      "Family\n",
      "mean LA: 0.8984320833333334\n",
      "mean others: 0.7747078195488726\n"
     ]
    },
    {
     "data": {
      "text/plain": [
       "Ttest_indResult(statistic=2.114876435925217, pvalue=0.036039852810399405)"
      ]
     },
     "execution_count": 29,
     "metadata": {},
     "output_type": "execute_result"
    }
   ],
   "source": [
    "print(properties[1])\n",
    "print('mean LA: ' + str(df_LA[properties[1]].mean())) \n",
    "print('mean others: ' + str(df_others[properties[1]].mean())) \n",
    "stats.ttest_ind(df_LA[properties[1]], df_others[properties[1]])"
   ]
  },
  {
   "cell_type": "code",
   "execution_count": 30,
   "metadata": {},
   "outputs": [
    {
     "name": "stdout",
     "output_type": "stream",
     "text": [
      "Health (Life Expectancy)\n",
      "mean LA: 0.6127025\n",
      "mean others: 0.547679097744361\n"
     ]
    },
    {
     "data": {
      "text/plain": [
       "Ttest_indResult(statistic=1.280986084823989, pvalue=0.20211185167619442)"
      ]
     },
     "execution_count": 30,
     "metadata": {},
     "output_type": "execute_result"
    }
   ],
   "source": [
    "print(properties[2])\n",
    "print('mean LA: ' + str(df_LA[properties[2]].mean())) \n",
    "print('mean others: ' + str(df_others[properties[2]].mean())) \n",
    "stats.ttest_ind(df_LA[properties[2]], df_others[properties[2]])"
   ]
  },
  {
   "cell_type": "code",
   "execution_count": 31,
   "metadata": {},
   "outputs": [
    {
     "name": "stdout",
     "output_type": "stream",
     "text": [
      "Freedom\n",
      "mean LA: 0.42664625000000006\n",
      "mean others: 0.36095135338345863\n"
     ]
    },
    {
     "data": {
      "text/plain": [
       "Ttest_indResult(statistic=2.0567451312718625, pvalue=0.04138709912210082)"
      ]
     },
     "execution_count": 31,
     "metadata": {},
     "output_type": "execute_result"
    }
   ],
   "source": [
    "print(properties[3])\n",
    "print('mean LA: ' + str(df_LA[properties[3]].mean())) \n",
    "print('mean others: ' + str(df_others[properties[3]].mean())) \n",
    "stats.ttest_ind(df_LA[properties[3]], df_others[properties[3]])"
   ]
  },
  {
   "cell_type": "code",
   "execution_count": 32,
   "metadata": {},
   "outputs": [
    {
     "name": "stdout",
     "output_type": "stream",
     "text": [
      "Trust (Government Corruption)\n",
      "mean LA: 0.10601624999999999\n",
      "mean others: 0.14332736842105273\n"
     ]
    },
    {
     "data": {
      "text/plain": [
       "Ttest_indResult(statistic=-1.5214977368311584, pvalue=0.1301724125542952)"
      ]
     },
     "execution_count": 32,
     "metadata": {},
     "output_type": "execute_result"
    }
   ],
   "source": [
    "print(properties[4])\n",
    "print('mean LA: ' + str(df_LA[properties[4]].mean())) \n",
    "print('mean others: ' + str(df_others[properties[4]].mean())) \n",
    "stats.ttest_ind(df_LA[properties[4]], df_others[properties[4]])"
   ]
  },
  {
   "cell_type": "code",
   "execution_count": 33,
   "metadata": {},
   "outputs": [
    {
     "name": "stdout",
     "output_type": "stream",
     "text": [
      "Generosity\n",
      "mean LA: 0.20842833333333333\n",
      "mean others: 0.24880751879699248\n"
     ]
    },
    {
     "data": {
      "text/plain": [
       "Ttest_indResult(statistic=-1.3649762016885076, pvalue=0.17423857126288836)"
      ]
     },
     "execution_count": 33,
     "metadata": {},
     "output_type": "execute_result"
    }
   ],
   "source": [
    "print(properties[5])\n",
    "print('mean LA: ' + str(df_LA[properties[5]].mean())) \n",
    "print('mean others: ' + str(df_others[properties[5]].mean())) \n",
    "stats.ttest_ind(df_LA[properties[5]], df_others[properties[5]])"
   ]
  },
  {
   "cell_type": "code",
   "execution_count": 44,
   "metadata": {},
   "outputs": [
    {
     "data": {
      "text/plain": [
       "[0.5087448153114481,\n",
       " 2.114876435925217,\n",
       " 1.280986084823989,\n",
       " 2.0567451312718625,\n",
       " -1.5214977368311584,\n",
       " -1.3649762016885076]"
      ]
     },
     "execution_count": 44,
     "metadata": {},
     "output_type": "execute_result"
    }
   ],
   "source": [
    "t_stats = list()\n",
    "for i in range(0, 6):\n",
    "    t_stats.append(stats.ttest_ind(df_LA[properties[i]], df_others[properties[i]])[0])\n",
    "t_stats"
   ]
  },
  {
   "cell_type": "code",
   "execution_count": 46,
   "metadata": {},
   "outputs": [
    {
     "data": {
      "text/plain": [
       "<matplotlib.axes._subplots.AxesSubplot at 0x2a15acfc648>"
      ]
     },
     "execution_count": 46,
     "metadata": {},
     "output_type": "execute_result"
    },
    {
     "data": {
      "image/png": "[encoded data removed]",
      "text/plain": [
       "<Figure size 1440x720 with 1 Axes>"
      ]
     },
     "metadata": {
      "needs_background": "light"
     },
     "output_type": "display_data"
    }
   ],
   "source": [
    "t_stats = pd.Series(t_stats)\n",
    "t_stats.plot.hist(figsize=(20,10), bins=70)"
   ]
  },
  {
   "cell_type": "code",
   "execution_count": 66,
   "metadata": {},
   "outputs": [
    {
     "name": "stderr",
     "output_type": "stream",
     "text": [
      "C:\\ProgramData\\Anaconda3\\lib\\site-packages\\ipykernel_launcher.py:1: SettingWithCopyWarning: \n",
      "A value is trying to be set on a copy of a slice from a DataFrame\n",
      "\n",
      "See the caveats in the documentation: https://pandas.pydata.org/pandas-docs/stable/user_guide/indexing.html#returning-a-view-versus-a-copy\n",
      "  \"\"\"Entry point for launching an IPython kernel.\n",
      "C:\\ProgramData\\Anaconda3\\lib\\site-packages\\IPython\\core\\interactiveshell.py:3331: SettingWithCopyWarning: \n",
      "A value is trying to be set on a copy of a slice from a DataFrame\n",
      "\n",
      "See the caveats in the documentation: https://pandas.pydata.org/pandas-docs/stable/user_guide/indexing.html#returning-a-view-versus-a-copy\n",
      "  exec(code_obj, self.user_global_ns, self.user_ns)\n"
     ]
    },
    {
     "ename": "KeyError",
     "evalue": "7",
     "output_type": "error",
     "traceback": [
      "\u001b[1;31m---------------------------------------------------------------------------\u001b[0m",
      "\u001b[1;31mKeyError\u001b[0m                                  Traceback (most recent call last)",
      "\u001b[1;32m<ipython-input-66-b0c67e438583>\u001b[0m in \u001b[0;36m<module>\u001b[1;34m\u001b[0m\n\u001b[1;32m----> 1\u001b[1;33m \u001b[0mnp\u001b[0m\u001b[1;33m.\u001b[0m\u001b[0mrandom\u001b[0m\u001b[1;33m.\u001b[0m\u001b[0mshuffle\u001b[0m\u001b[1;33m(\u001b[0m\u001b[0mdf_LA\u001b[0m\u001b[1;33m[\u001b[0m\u001b[0mproperties\u001b[0m\u001b[1;33m[\u001b[0m\u001b[1;36m0\u001b[0m\u001b[1;33m]\u001b[0m\u001b[1;33m]\u001b[0m\u001b[1;33m)\u001b[0m\u001b[1;33m\u001b[0m\u001b[1;33m\u001b[0m\u001b[0m\n\u001b[0m",
      "\u001b[1;32mmtrand.pyx\u001b[0m in \u001b[0;36mnumpy.random.mtrand.RandomState.shuffle\u001b[1;34m()\u001b[0m\n",
      "\u001b[1;32mmtrand.pyx\u001b[0m in \u001b[0;36mnumpy.random.mtrand.RandomState.shuffle\u001b[1;34m()\u001b[0m\n",
      "\u001b[1;32mC:\\ProgramData\\Anaconda3\\lib\\site-packages\\pandas\\core\\series.py\u001b[0m in \u001b[0;36m__getitem__\u001b[1;34m(self, key)\u001b[0m\n\u001b[0;32m    869\u001b[0m         \u001b[0mkey\u001b[0m \u001b[1;33m=\u001b[0m \u001b[0mcom\u001b[0m\u001b[1;33m.\u001b[0m\u001b[0mapply_if_callable\u001b[0m\u001b[1;33m(\u001b[0m\u001b[0mkey\u001b[0m\u001b[1;33m,\u001b[0m \u001b[0mself\u001b[0m\u001b[1;33m)\u001b[0m\u001b[1;33m\u001b[0m\u001b[1;33m\u001b[0m\u001b[0m\n\u001b[0;32m    870\u001b[0m         \u001b[1;32mtry\u001b[0m\u001b[1;33m:\u001b[0m\u001b[1;33m\u001b[0m\u001b[1;33m\u001b[0m\u001b[0m\n\u001b[1;32m--> 871\u001b[1;33m             \u001b[0mresult\u001b[0m \u001b[1;33m=\u001b[0m \u001b[0mself\u001b[0m\u001b[1;33m.\u001b[0m\u001b[0mindex\u001b[0m\u001b[1;33m.\u001b[0m\u001b[0mget_value\u001b[0m\u001b[1;33m(\u001b[0m\u001b[0mself\u001b[0m\u001b[1;33m,\u001b[0m \u001b[0mkey\u001b[0m\u001b[1;33m)\u001b[0m\u001b[1;33m\u001b[0m\u001b[1;33m\u001b[0m\u001b[0m\n\u001b[0m\u001b[0;32m    872\u001b[0m \u001b[1;33m\u001b[0m\u001b[0m\n\u001b[0;32m    873\u001b[0m             \u001b[1;32mif\u001b[0m \u001b[1;32mnot\u001b[0m \u001b[0mis_scalar\u001b[0m\u001b[1;33m(\u001b[0m\u001b[0mresult\u001b[0m\u001b[1;33m)\u001b[0m\u001b[1;33m:\u001b[0m\u001b[1;33m\u001b[0m\u001b[1;33m\u001b[0m\u001b[0m\n",
      "\u001b[1;32mC:\\ProgramData\\Anaconda3\\lib\\site-packages\\pandas\\core\\indexes\\base.py\u001b[0m in \u001b[0;36mget_value\u001b[1;34m(self, series, key)\u001b[0m\n\u001b[0;32m   4403\u001b[0m         \u001b[0mk\u001b[0m \u001b[1;33m=\u001b[0m \u001b[0mself\u001b[0m\u001b[1;33m.\u001b[0m\u001b[0m_convert_scalar_indexer\u001b[0m\u001b[1;33m(\u001b[0m\u001b[0mk\u001b[0m\u001b[1;33m,\u001b[0m \u001b[0mkind\u001b[0m\u001b[1;33m=\u001b[0m\u001b[1;34m\"getitem\"\u001b[0m\u001b[1;33m)\u001b[0m\u001b[1;33m\u001b[0m\u001b[1;33m\u001b[0m\u001b[0m\n\u001b[0;32m   4404\u001b[0m         \u001b[1;32mtry\u001b[0m\u001b[1;33m:\u001b[0m\u001b[1;33m\u001b[0m\u001b[1;33m\u001b[0m\u001b[0m\n\u001b[1;32m-> 4405\u001b[1;33m             \u001b[1;32mreturn\u001b[0m \u001b[0mself\u001b[0m\u001b[1;33m.\u001b[0m\u001b[0m_engine\u001b[0m\u001b[1;33m.\u001b[0m\u001b[0mget_value\u001b[0m\u001b[1;33m(\u001b[0m\u001b[0ms\u001b[0m\u001b[1;33m,\u001b[0m \u001b[0mk\u001b[0m\u001b[1;33m,\u001b[0m \u001b[0mtz\u001b[0m\u001b[1;33m=\u001b[0m\u001b[0mgetattr\u001b[0m\u001b[1;33m(\u001b[0m\u001b[0mseries\u001b[0m\u001b[1;33m.\u001b[0m\u001b[0mdtype\u001b[0m\u001b[1;33m,\u001b[0m \u001b[1;34m\"tz\"\u001b[0m\u001b[1;33m,\u001b[0m \u001b[1;32mNone\u001b[0m\u001b[1;33m)\u001b[0m\u001b[1;33m)\u001b[0m\u001b[1;33m\u001b[0m\u001b[1;33m\u001b[0m\u001b[0m\n\u001b[0m\u001b[0;32m   4406\u001b[0m         \u001b[1;32mexcept\u001b[0m \u001b[0mKeyError\u001b[0m \u001b[1;32mas\u001b[0m \u001b[0me1\u001b[0m\u001b[1;33m:\u001b[0m\u001b[1;33m\u001b[0m\u001b[1;33m\u001b[0m\u001b[0m\n\u001b[0;32m   4407\u001b[0m             \u001b[1;32mif\u001b[0m \u001b[0mlen\u001b[0m\u001b[1;33m(\u001b[0m\u001b[0mself\u001b[0m\u001b[1;33m)\u001b[0m \u001b[1;33m>\u001b[0m \u001b[1;36m0\u001b[0m \u001b[1;32mand\u001b[0m \u001b[1;33m(\u001b[0m\u001b[0mself\u001b[0m\u001b[1;33m.\u001b[0m\u001b[0mholds_integer\u001b[0m\u001b[1;33m(\u001b[0m\u001b[1;33m)\u001b[0m \u001b[1;32mor\u001b[0m \u001b[0mself\u001b[0m\u001b[1;33m.\u001b[0m\u001b[0mis_boolean\u001b[0m\u001b[1;33m(\u001b[0m\u001b[1;33m)\u001b[0m\u001b[1;33m)\u001b[0m\u001b[1;33m:\u001b[0m\u001b[1;33m\u001b[0m\u001b[1;33m\u001b[0m\u001b[0m\n",
      "\u001b[1;32mpandas\\_libs\\index.pyx\u001b[0m in \u001b[0;36mpandas._libs.index.IndexEngine.get_value\u001b[1;34m()\u001b[0m\n",
      "\u001b[1;32mpandas\\_libs\\index.pyx\u001b[0m in \u001b[0;36mpandas._libs.index.IndexEngine.get_value\u001b[1;34m()\u001b[0m\n",
      "\u001b[1;32mpandas\\_libs\\index.pyx\u001b[0m in \u001b[0;36mpandas._libs.index.IndexEngine.get_loc\u001b[1;34m()\u001b[0m\n",
      "\u001b[1;32mpandas\\_libs\\hashtable_class_helper.pxi\u001b[0m in \u001b[0;36mpandas._libs.hashtable.Int64HashTable.get_item\u001b[1;34m()\u001b[0m\n",
      "\u001b[1;32mpandas\\_libs\\hashtable_class_helper.pxi\u001b[0m in \u001b[0;36mpandas._libs.hashtable.Int64HashTable.get_item\u001b[1;34m()\u001b[0m\n",
      "\u001b[1;31mKeyError\u001b[0m: 7"
     ]
    }
   ],
   "source": [
    "np.random.shuffle(df_LA[properties[0]])"
   ]
  },
  {
   "cell_type": "code",
   "execution_count": 113,
   "metadata": {},
   "outputs": [],
   "source": [
    "l1 = len(df_LA)\n",
    "contry = np.array(df_func_happy[properties[0]])\n",
    "t_stats_random = list()\n",
    "B=10000\n",
    "for b in range(B):\n",
    "    np.random.shuffle(contry)\n",
    "    group_1 = contry[:l1]\n",
    "    group_2 = contry[l1:]\n",
    "    t_stats_random.append(stats.ttest_ind(group_1,group_2,equal_var=True)[0])"
   ]
  },
  {
   "cell_type": "code",
   "execution_count": 116,
   "metadata": {},
   "outputs": [
    {
     "data": {
      "text/plain": [
       "<matplotlib.axes._subplots.AxesSubplot at 0x2a15cc19b08>"
      ]
     },
     "execution_count": 116,
     "metadata": {},
     "output_type": "execute_result"
    },
    {
     "data": {
      "image/png": "[encoded data removed]",
      "text/plain": [
       "<Figure size 1080x576 with 1 Axes>"
      ]
     },
     "metadata": {
      "needs_background": "light"
     },
     "output_type": "display_data"
    }
   ],
   "source": [
    "pd.Series(t_stats_random).hist(figsize=(15,8), bins=20)"
   ]
  },
  {
   "cell_type": "code",
   "execution_count": 117,
   "metadata": {},
   "outputs": [
    {
     "data": {
      "text/plain": [
       "(-1.5019325449383272, 2.1076100228435477)"
      ]
     },
     "execution_count": 117,
     "metadata": {},
     "output_type": "execute_result"
    }
   ],
   "source": [
    "np.quantile(t_stats,0.025),np.quantile(t_stats,1-0.025)"
   ]
  },
  {
   "cell_type": "code",
   "execution_count": 106,
   "metadata": {},
   "outputs": [
    {
     "data": {
      "text/plain": [
       "array([0.97306, 0.69384, 1.06879, 0.83454, 1.15137, 1.35943, 0.87616,\n",
       "       1.18157, 0.34097, 0.99602, 1.2167 , 1.32572, 0.79422, 1.08754,\n",
       "       1.02787, 0.8737 , 1.03032, 0.69429, 0.89333, 0.89373, 1.18306,\n",
       "       1.09686, 1.11508, 1.13367])"
      ]
     },
     "execution_count": 106,
     "metadata": {},
     "output_type": "execute_result"
    }
   ],
   "source": []
  },
  {
   "cell_type": "code",
   "execution_count": null,
   "metadata": {},
   "outputs": [],
   "source": []
  }
 ],
 "metadata": {
  "kernelspec": {
   "display_name": "Python 3",
   "language": "python",
   "name": "python3"
  },
  "language_info": {
   "codemirror_mode": {
    "name": "ipython",
    "version": 3
   },
   "file_extension": ".py",
   "mimetype": "text/x-python",
   "name": "python",
   "nbconvert_exporter": "python",
   "pygments_lexer": "ipython3",
   "version": "3.7.6"
  }
 },
 "nbformat": 4,
 "nbformat_minor": 4
}
